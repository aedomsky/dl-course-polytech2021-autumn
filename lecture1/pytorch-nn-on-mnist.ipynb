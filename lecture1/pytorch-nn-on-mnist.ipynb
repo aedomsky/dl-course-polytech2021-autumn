{
 "cells": [
  {
   "cell_type": "markdown",
   "id": "18e2a6db",
   "metadata": {},
   "source": [
    "## В данном ноутбуке будет описан полный цикл тренировки нейронной сети на pytorch"
   ]
  },
  {
   "cell_type": "code",
   "execution_count": null,
   "id": "7d9126e7",
   "metadata": {},
   "outputs": [],
   "source": [
    "!wget https://raw.githubusercontent.com/yandexdataschool/Practical_DL/35c067adcc1ab364c8803830cdb34d0d50eea37e/week01_backprop/util.py -O util.py\n",
    "!wget https://raw.githubusercontent.com/yandexdataschool/Practical_DL/35c067adcc1ab364c8803830cdb34d0d50eea37e/week01_backprop/mnist.py -O mnist.py\n",
    "from __future__ import print_function\n",
    "import numpy as np\n",
    "np.random.seed(42)"
   ]
  },
  {
   "cell_type": "code",
   "execution_count": null,
   "id": "d96e2ad3",
   "metadata": {},
   "outputs": [],
   "source": [
    "import matplotlib.pyplot as plt\n",
    "#%matplotlib inline\n",
    "\n",
    "from mnist import load_dataset\n",
    "X_train, y_train, X_val, y_val, X_test, y_test = load_dataset(flatten=True)\n",
    "\n",
    "plt.figure(figsize=[6,6])\n",
    "for i in range(4):\n",
    "    plt.subplot(2,2,i+1)\n",
    "    plt.title(\"Label: %i\"%y_train[i])\n",
    "    plt.imshow(X_train[i].reshape([28,28]),cmap='gray');"
   ]
  },
  {
   "cell_type": "code",
   "execution_count": null,
   "id": "20f3d370",
   "metadata": {},
   "outputs": [],
   "source": [
    "from torch.utils.data import DataLoader, TensorDataset\n",
    "\n",
    "class Dataset(TensorDataset):\n",
    "    def __init__(self, X, y):\n",
    "        self.X = X\n",
    "        self.y = y\n",
    "    \n",
    "    def __len__(self):\n",
    "        return len(self.X)\n",
    "    \n",
    "    def __getitem__(self, idx):        \n",
    "        return {\n",
    "            'input': torch.Tensor(self.X[idx]),\n",
    "            'target': torch.LongTensor([self.y[idx]])\n",
    "        }\n",
    "    \n",
    "train_dataset = Dataset(X_train, y_train)\n",
    "val_dataset = Dataset(X_val, y_val)\n",
    "\n",
    "\n",
    "train_loader = DataLoader(\n",
    "    dataset=train_dataset,\n",
    "    batch_size=32\n",
    ")\n",
    "val_loader = DataLoader(\n",
    "    dataset=val_dataset,\n",
    "    batch_size=32\n",
    ")"
   ]
  },
  {
   "cell_type": "code",
   "execution_count": null,
   "id": "e86b607c",
   "metadata": {},
   "outputs": [],
   "source": [
    "import torch\n",
    "from torch import nn\n",
    "from torch import optim\n",
    "\n",
    "class Net(nn.Module):\n",
    "    def __init__(self, config):\n",
    "        super().__init__()\n",
    "        self.linear1 = nn.Linear(in_features=config['input_dim'], out_features=config['l1_out'])\n",
    "        self.linear2 = nn.Linear(in_features=config['l1_out'], out_features=config['l2_out'])\n",
    "        self.linear3 = nn.Linear(in_features=config['l2_out'], out_features=config['output_dim'])\n",
    "    \n",
    "    def forward(self, x):\n",
    "        x = torch.relu(self.linear1(x))\n",
    "        x = torch.relu(self.linear2(x))\n",
    "        return self.linear3(x)\n",
    "    \n",
    "config = {\n",
    "    'input_dim': 784,\n",
    "    'l1_out': 200,\n",
    "    'l2_out': 100,\n",
    "    'output_dim': 10\n",
    "}\n",
    "\n",
    "net = Net(config)\n",
    "optimizer = optim.Adam(params=net.parameters())\n",
    "loss_func = nn.CrossEntropyLoss()"
   ]
  },
  {
   "cell_type": "code",
   "execution_count": null,
   "id": "97da988c",
   "metadata": {},
   "outputs": [],
   "source": [
    "def count_metric(net, loader):\n",
    "    net.eval()\n",
    "    correct = 0\n",
    "    total = 0\n",
    "    for batch in loader:\n",
    "        logits = net(batch['input'])\n",
    "        correct += torch.sum(logits.argmax(dim=-1) == batch['target'].squeeze(-1)).item()\n",
    "        total += len(logits)\n",
    "    return correct / total"
   ]
  },
  {
   "cell_type": "code",
   "execution_count": null,
   "id": "9b0c1cba",
   "metadata": {},
   "outputs": [],
   "source": [
    "from IPython.display import clear_output\n",
    "train_log = []\n",
    "val_log = []"
   ]
  },
  {
   "cell_type": "code",
   "execution_count": null,
   "id": "f59eaf4a",
   "metadata": {},
   "outputs": [],
   "source": [
    "for epoch in range(5):\n",
    "    net.train()\n",
    "    for batch in train_loader:\n",
    "        logits = net(batch['input'])\n",
    "        loss = loss_func(logits, batch['target'].squeeze(-1))\n",
    "        optimizer.zero_grad()\n",
    "        loss.backward()\n",
    "        optimizer.step()\n",
    "    train_log.append(count_metric(net, train_loader))\n",
    "    val_log.append(count_metric(net, val_loader))\n",
    "    \n",
    "    clear_output()\n",
    "    print(\"Epoch\",epoch + 1)\n",
    "    print(\"Train accuracy:\",train_log[-1])\n",
    "    print(\"Val accuracy:\",val_log[-1])\n",
    "    plt.plot(train_log,label='train accuracy')\n",
    "    plt.plot(val_log,label='val accuracy')\n",
    "    plt.legend(loc='best')\n",
    "    plt.grid()\n",
    "    plt.show()\n",
    "    "
   ]
  },
  {
   "cell_type": "code",
   "execution_count": null,
   "id": "6f1911c3",
   "metadata": {},
   "outputs": [],
   "source": []
  }
 ],
 "metadata": {
  "kernelspec": {
   "display_name": "Python 3 (ipykernel)",
   "language": "python",
   "name": "python3"
  },
  "language_info": {
   "codemirror_mode": {
    "name": "ipython",
    "version": 3
   },
   "file_extension": ".py",
   "mimetype": "text/x-python",
   "name": "python",
   "nbconvert_exporter": "python",
   "pygments_lexer": "ipython3",
   "version": "3.9.7"
  }
 },
 "nbformat": 4,
 "nbformat_minor": 5
}
